{
 "cells": [
  {
   "cell_type": "markdown",
   "id": "8b691a1b",
   "metadata": {},
   "source": [
    "# Data Agumentation Using Keras"
   ]
  },
  {
   "cell_type": "code",
   "execution_count": 6,
   "id": "d5f1edb2",
   "metadata": {},
   "outputs": [],
   "source": [
    "from tensorflow.keras.preprocessing.image import ImageDataGenerator, img_to_array, array_to_img, load_img\n",
    "from numpy import expand_dims"
   ]
  },
  {
   "cell_type": "code",
   "execution_count": 11,
   "id": "8bdbe913",
   "metadata": {},
   "outputs": [
    {
     "data": {
      "text/plain": [
       "(1, 174, 290, 3)"
      ]
     },
     "execution_count": 11,
     "metadata": {},
     "output_type": "execute_result"
    }
   ],
   "source": [
    "datagen  = ImageDataGenerator(\n",
    "    rotation_range=40,\n",
    "    height_shift_range=0.2 ,\n",
    "    width_shift_range=0.2,\n",
    "    shear_range=0.2,\n",
    "    zoom_range=0.2,\n",
    "    horizontal_flip=True,\n",
    "    fill_mode='nearest')\n",
    "\n",
    "img = load_img('plane.jpg')\n",
    "x = img_to_array(img)\n",
    "x = expand_dims(x, axis=0)\n",
    "x.shape"
   ]
  },
  {
   "cell_type": "code",
   "execution_count": 20,
   "id": "472c9880",
   "metadata": {},
   "outputs": [],
   "source": [
    "i=0\n",
    "for batch in datagen.flow(x, batch_size=1, save_to_dir='preview', save_prefix='plane', save_format='jpeg'):\n",
    "    i += 1\n",
    "    if i >= 20:\n",
    "        break"
   ]
  }
 ],
 "metadata": {
  "interpreter": {
   "hash": "c074a61a670efce9ff27bbd5d0ff494cc0c10b407549582bf2227f8342f741fb"
  },
  "kernelspec": {
   "display_name": "Python 3",
   "language": "python",
   "name": "python3"
  },
  "language_info": {
   "codemirror_mode": {
    "name": "ipython",
    "version": 3
   },
   "file_extension": ".py",
   "mimetype": "text/x-python",
   "name": "python",
   "nbconvert_exporter": "python",
   "pygments_lexer": "ipython3",
   "version": "3.9.5"
  }
 },
 "nbformat": 4,
 "nbformat_minor": 5
}
